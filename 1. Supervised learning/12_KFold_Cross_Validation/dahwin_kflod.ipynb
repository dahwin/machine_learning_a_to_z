{
 "cells": [
  {
   "cell_type": "code",
   "execution_count": 36,
   "id": "71b0bbef-f971-4eba-936c-7c4d47d5b488",
   "metadata": {},
   "outputs": [],
   "source": [
    "'''dahyun+darwin = dahwin'''\n",
    "from sklearn.linear_model import LogisticRegression\n",
    "from sklearn.svm import SVC\n",
    "from sklearn.ensemble import RandomForestClassifier\n",
    "import numpy as np\n",
    "from sklearn.datasets import load_digits\n",
    "import matplotlib.pyplot as plt\n",
    "digits = load_digits()"
   ]
  },
  {
   "cell_type": "code",
   "execution_count": 37,
   "id": "34b1d37d-1b2a-42a2-87df-e9e81cf9453f",
   "metadata": {
    "tags": []
   },
   "outputs": [],
   "source": [
    "from sklearn.model_selection import train_test_split\n",
    "X_train, X_test, y_train, y_test = train_test_split(digits.data,digits.target,test_size=0.3)"
   ]
  },
  {
   "cell_type": "markdown",
   "id": "955b47a5-5979-4d8f-8722-4acc3f46c6af",
   "metadata": {},
   "source": [
    "Logistic Regression"
   ]
  },
  {
   "cell_type": "code",
   "execution_count": 38,
   "id": "e11474b8-8f3c-4787-8cf2-7faf3ae55115",
   "metadata": {
    "tags": []
   },
   "outputs": [
    {
     "name": "stderr",
     "output_type": "stream",
     "text": [
      "C:\\Users\\Pc\\Desktop\\machine_Learning\\mldl\\lib\\site-packages\\sklearn\\linear_model\\_logistic.py:458: ConvergenceWarning: lbfgs failed to converge (status=1):\n",
      "STOP: TOTAL NO. of ITERATIONS REACHED LIMIT.\n",
      "\n",
      "Increase the number of iterations (max_iter) or scale the data as shown in:\n",
      "    https://scikit-learn.org/stable/modules/preprocessing.html\n",
      "Please also refer to the documentation for alternative solver options:\n",
      "    https://scikit-learn.org/stable/modules/linear_model.html#logistic-regression\n",
      "  n_iter_i = _check_optimize_result(\n"
     ]
    },
    {
     "data": {
      "text/plain": [
       "0.9703703703703703"
      ]
     },
     "execution_count": 38,
     "metadata": {},
     "output_type": "execute_result"
    }
   ],
   "source": [
    "logistic = LogisticRegression()\n",
    "logistic.fit(X_train,y_train)\n",
    "logistic.score(X_test,y_test)"
   ]
  },
  {
   "cell_type": "markdown",
   "id": "661dc40e-5433-4fc9-b0dc-f635c6280906",
   "metadata": {},
   "source": [
    "Support Vactor Machine"
   ]
  },
  {
   "cell_type": "code",
   "execution_count": 39,
   "id": "7d1e35ac-0b4a-44c2-8a5b-d70ad139b8c0",
   "metadata": {
    "tags": []
   },
   "outputs": [
    {
     "data": {
      "text/plain": [
       "0.9907407407407407"
      ]
     },
     "execution_count": 39,
     "metadata": {},
     "output_type": "execute_result"
    }
   ],
   "source": [
    "svm = SVC()\n",
    "svm.fit(X_train,y_train)\n",
    "svm.score(X_test,y_test)"
   ]
  },
  {
   "cell_type": "markdown",
   "id": "e3b7ca36-803b-4d69-aa78-1136f5da6dc0",
   "metadata": {},
   "source": [
    "Random Forest"
   ]
  },
  {
   "cell_type": "code",
   "execution_count": 40,
   "id": "4afe7267-9145-4019-9673-860d99dd0615",
   "metadata": {
    "tags": []
   },
   "outputs": [
    {
     "data": {
      "text/plain": [
       "0.975925925925926"
      ]
     },
     "execution_count": 40,
     "metadata": {},
     "output_type": "execute_result"
    }
   ],
   "source": [
    "random = RandomForestClassifier()\n",
    "random.fit(X_train,y_train)\n",
    "random.score(X_test,y_test)"
   ]
  },
  {
   "cell_type": "markdown",
   "id": "f3073c0c-5851-4e47-ac73-c67a9db30a98",
   "metadata": {},
   "source": [
    "<h2 style='color:purple'>KFold cross validation</h2>"
   ]
  },
  {
   "cell_type": "code",
   "execution_count": 41,
   "id": "bd7c430e-ec4b-49e1-9bd4-1820aad0d19b",
   "metadata": {
    "tags": []
   },
   "outputs": [
    {
     "data": {
      "text/plain": [
       "KFold(n_splits=5, random_state=None, shuffle=False)"
      ]
     },
     "execution_count": 41,
     "metadata": {},
     "output_type": "execute_result"
    }
   ],
   "source": [
    "from sklearn.model_selection import KFold\n",
    "kf = KFold()\n",
    "kf"
   ]
  },
  {
   "cell_type": "code",
   "execution_count": 42,
   "id": "7c2986bb-f7b0-4b6b-96a7-4359b80dfd44",
   "metadata": {
    "tags": []
   },
   "outputs": [
    {
     "name": "stdout",
     "output_type": "stream",
     "text": [
      "[2 3 4 5 6 7 8] [0 1]\n",
      "[0 1 4 5 6 7 8] [2 3]\n",
      "[0 1 2 3 6 7 8] [4 5]\n",
      "[0 1 2 3 4 5 8] [6 7]\n",
      "[0 1 2 3 4 5 6 7] [8]\n"
     ]
    }
   ],
   "source": [
    "for train_index,test_index in kf.split([1,2,3,4,5,6,7,8,9]):\n",
    "    print(train_index,test_index)"
   ]
  },
  {
   "cell_type": "code",
   "execution_count": 43,
   "id": "b7cae963-92b8-423d-a1b5-f652cee012e6",
   "metadata": {
    "tags": []
   },
   "outputs": [],
   "source": [
    "def get_score(model,x_train,x_test,y_train,y_test):\n",
    "    model.fit(x_train,y_train)\n",
    "    return model.score(x_test,y_test)"
   ]
  },
  {
   "cell_type": "code",
   "execution_count": 44,
   "id": "2eeb8181-b742-42f4-89c0-ab59d2f04d92",
   "metadata": {
    "tags": []
   },
   "outputs": [],
   "source": [
    "from sklearn.model_selection import StratifiedKFold\n",
    "folds = StratifiedKFold()\n",
    "scores_logistic = []\n",
    "scores_svm = []\n",
    "scores_random = []\n",
    "for train_index,test_index in folds.split(digits.data,digits.target):\n",
    "    x_train,x_test,y_train,y_test = digits.data[train_index],digits.data[test_index],\\\n",
    "                                    digits.target[train_index],digits.target[test_index]\n",
    "    scores_logistic.append(get_score(LogisticRegression(solver='liblinear',multi_class='ovr'),x_train,x_test,y_train,y_test))\n",
    "    scores_svm.append(get_score(SVC(),x_train,x_test,y_train,y_test))#gamma='auto'\n",
    "    scores_random.append(get_score(RandomForestClassifier(),x_train,x_test,y_train,y_test))#n_estimators=40"
   ]
  },
  {
   "cell_type": "code",
   "execution_count": 45,
   "id": "0aea5477-0656-4ce0-bf88-50ecdb208828",
   "metadata": {
    "tags": []
   },
   "outputs": [
    {
     "data": {
      "text/plain": [
       "[0.9222222222222223,\n",
       " 0.8833333333333333,\n",
       " 0.9526462395543176,\n",
       " 0.958217270194986,\n",
       " 0.8941504178272981]"
      ]
     },
     "execution_count": 45,
     "metadata": {},
     "output_type": "execute_result"
    }
   ],
   "source": [
    "scores_logistic"
   ]
  },
  {
   "cell_type": "code",
   "execution_count": 46,
   "id": "66765ef0-3d47-4ef7-96e2-95084d9d2175",
   "metadata": {
    "tags": []
   },
   "outputs": [
    {
     "data": {
      "text/plain": [
       "[0.9611111111111111,\n",
       " 0.9444444444444444,\n",
       " 0.9832869080779945,\n",
       " 0.9888579387186629,\n",
       " 0.9387186629526463]"
      ]
     },
     "execution_count": 46,
     "metadata": {},
     "output_type": "execute_result"
    }
   ],
   "source": [
    "scores_svm"
   ]
  },
  {
   "cell_type": "code",
   "execution_count": 47,
   "id": "2bfaa137-fad8-41af-bc32-51d18aaf38ac",
   "metadata": {
    "tags": []
   },
   "outputs": [
    {
     "data": {
      "text/plain": [
       "[0.9388888888888889,\n",
       " 0.9055555555555556,\n",
       " 0.958217270194986,\n",
       " 0.9610027855153204,\n",
       " 0.9164345403899722]"
      ]
     },
     "execution_count": 47,
     "metadata": {},
     "output_type": "execute_result"
    }
   ],
   "source": [
    "scores_random"
   ]
  },
  {
   "cell_type": "code",
   "execution_count": 48,
   "id": "e6a2bea9-d384-48d7-b1a7-54ee08f6d919",
   "metadata": {
    "tags": []
   },
   "outputs": [],
   "source": [
    "from sklearn.model_selection import cross_val_score"
   ]
  },
  {
   "cell_type": "markdown",
   "id": "a862d938-73b0-43f3-8205-7c4d07316232",
   "metadata": {},
   "source": [
    "Logistic regression model performance using cross_val_score"
   ]
  },
  {
   "cell_type": "code",
   "execution_count": 51,
   "id": "61665198-4dd5-44df-bfbc-2b67b47f0b45",
   "metadata": {
    "tags": []
   },
   "outputs": [
    {
     "name": "stderr",
     "output_type": "stream",
     "text": [
      "C:\\Users\\Pc\\Desktop\\machine_Learning\\mldl\\lib\\site-packages\\sklearn\\linear_model\\_logistic.py:458: ConvergenceWarning: lbfgs failed to converge (status=1):\n",
      "STOP: TOTAL NO. of ITERATIONS REACHED LIMIT.\n",
      "\n",
      "Increase the number of iterations (max_iter) or scale the data as shown in:\n",
      "    https://scikit-learn.org/stable/modules/preprocessing.html\n",
      "Please also refer to the documentation for alternative solver options:\n",
      "    https://scikit-learn.org/stable/modules/linear_model.html#logistic-regression\n",
      "  n_iter_i = _check_optimize_result(\n",
      "C:\\Users\\Pc\\Desktop\\machine_Learning\\mldl\\lib\\site-packages\\sklearn\\linear_model\\_logistic.py:458: ConvergenceWarning: lbfgs failed to converge (status=1):\n",
      "STOP: TOTAL NO. of ITERATIONS REACHED LIMIT.\n",
      "\n",
      "Increase the number of iterations (max_iter) or scale the data as shown in:\n",
      "    https://scikit-learn.org/stable/modules/preprocessing.html\n",
      "Please also refer to the documentation for alternative solver options:\n",
      "    https://scikit-learn.org/stable/modules/linear_model.html#logistic-regression\n",
      "  n_iter_i = _check_optimize_result(\n",
      "C:\\Users\\Pc\\Desktop\\machine_Learning\\mldl\\lib\\site-packages\\sklearn\\linear_model\\_logistic.py:458: ConvergenceWarning: lbfgs failed to converge (status=1):\n",
      "STOP: TOTAL NO. of ITERATIONS REACHED LIMIT.\n",
      "\n",
      "Increase the number of iterations (max_iter) or scale the data as shown in:\n",
      "    https://scikit-learn.org/stable/modules/preprocessing.html\n",
      "Please also refer to the documentation for alternative solver options:\n",
      "    https://scikit-learn.org/stable/modules/linear_model.html#logistic-regression\n",
      "  n_iter_i = _check_optimize_result(\n"
     ]
    },
    {
     "data": {
      "text/plain": [
       "array([0.92153589, 0.94156928, 0.91652755])"
      ]
     },
     "execution_count": 51,
     "metadata": {},
     "output_type": "execute_result"
    }
   ],
   "source": [
    "cross_val_score(LogisticRegression(),digits.data, digits.target,cv=3)"
   ]
  },
  {
   "cell_type": "code",
   "execution_count": 53,
   "id": "8fa89b2d-5eba-488e-8036-0fd6842ab778",
   "metadata": {
    "tags": []
   },
   "outputs": [
    {
     "data": {
      "text/plain": [
       "array([0.96494157, 0.97996661, 0.96494157])"
      ]
     },
     "execution_count": 53,
     "metadata": {},
     "output_type": "execute_result"
    }
   ],
   "source": [
    "cross_val_score(SVC(),digits.data, digits.target,cv=3)"
   ]
  },
  {
   "cell_type": "code",
   "execution_count": 54,
   "id": "e8cd9d65-f40b-45b6-8a8c-b4955e4125fc",
   "metadata": {
    "tags": []
   },
   "outputs": [
    {
     "data": {
      "text/plain": [
       "array([0.94490818, 0.94824708, 0.92320534])"
      ]
     },
     "execution_count": 54,
     "metadata": {},
     "output_type": "execute_result"
    }
   ],
   "source": [
    "cross_val_score(RandomForestClassifier(),digits.data,digits.target,cv=3)"
   ]
  },
  {
   "cell_type": "markdown",
   "id": "53c5dd5f-bfa8-43a6-ab01-ba2a25e123d9",
   "metadata": {},
   "source": [
    "<h2 style='color:purple'>Parameter tunning using k fold cross validation</h2>"
   ]
  },
  {
   "cell_type": "code",
   "execution_count": 59,
   "id": "1a5f073c-af80-4bcd-97a2-612c997985db",
   "metadata": {
    "tags": []
   },
   "outputs": [
    {
     "data": {
      "text/plain": [
       "0.8775760397268776"
      ]
     },
     "execution_count": 59,
     "metadata": {},
     "output_type": "execute_result"
    }
   ],
   "source": [
    "scores1 = cross_val_score(RandomForestClassifier(n_estimators=5),digits.data, digits.target, cv=10)\n",
    "np.average(scores1)"
   ]
  },
  {
   "cell_type": "code",
   "execution_count": 61,
   "id": "afd9a909-8d34-4336-a3d5-d38e5e117e9b",
   "metadata": {
    "tags": []
   },
   "outputs": [
    {
     "data": {
      "text/plain": [
       "0.9348789571694598"
      ]
     },
     "execution_count": 61,
     "metadata": {},
     "output_type": "execute_result"
    }
   ],
   "source": [
    "scores2 = cross_val_score(RandomForestClassifier(n_estimators=20),digits.data, digits.target, cv=10)\n",
    "np.average(scores2)"
   ]
  },
  {
   "cell_type": "code",
   "execution_count": 62,
   "id": "b50612c6-9310-4e12-92ea-6d67ba42de24",
   "metadata": {
    "tags": []
   },
   "outputs": [
    {
     "data": {
      "text/plain": [
       "0.9504562383612661"
      ]
     },
     "execution_count": 62,
     "metadata": {},
     "output_type": "execute_result"
    }
   ],
   "source": [
    "scores3 = cross_val_score(RandomForestClassifier(n_estimators=30),digits.data, digits.target, cv=10)\n",
    "np.average(scores3)"
   ]
  },
  {
   "cell_type": "code",
   "execution_count": 63,
   "id": "e972953b-433a-41c4-b966-acb58ea88dca",
   "metadata": {
    "tags": []
   },
   "outputs": [
    {
     "data": {
      "text/plain": [
       "0.9549348230912477"
      ]
     },
     "execution_count": 63,
     "metadata": {},
     "output_type": "execute_result"
    }
   ],
   "source": [
    "scores4 = cross_val_score(RandomForestClassifier(n_estimators=40),digits.data, digits.target, cv=10)\n",
    "np.average(scores4)"
   ]
  },
  {
   "cell_type": "code",
   "execution_count": 66,
   "id": "e6118b2f-4544-496b-881b-c3d62ccfc8dc",
   "metadata": {
    "tags": []
   },
   "outputs": [
    {
     "data": {
      "text/plain": [
       "0.9465580384854129"
      ]
     },
     "execution_count": 66,
     "metadata": {},
     "output_type": "execute_result"
    }
   ],
   "source": [
    "scores4 = cross_val_score(RandomForestClassifier(n_estimators=40),digits.data, digits.target, cv=10)\n",
    "np.average(scores4)"
   ]
  },
  {
   "cell_type": "code",
   "execution_count": null,
   "id": "d8ee27e5-4cb2-40c2-af3f-31c03a512068",
   "metadata": {},
   "outputs": [],
   "source": []
  }
 ],
 "metadata": {
  "kernelspec": {
   "display_name": "Python 3 (ipykernel)",
   "language": "python",
   "name": "python3"
  },
  "language_info": {
   "codemirror_mode": {
    "name": "ipython",
    "version": 3
   },
   "file_extension": ".py",
   "mimetype": "text/x-python",
   "name": "python",
   "nbconvert_exporter": "python",
   "pygments_lexer": "ipython3",
   "version": "3.10.8"
  }
 },
 "nbformat": 4,
 "nbformat_minor": 5
}
