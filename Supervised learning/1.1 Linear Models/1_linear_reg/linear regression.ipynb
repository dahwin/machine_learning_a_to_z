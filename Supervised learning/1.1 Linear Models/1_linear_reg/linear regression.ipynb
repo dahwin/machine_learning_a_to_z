'''dahyun+darwin = dahwin'''
import pandas as pd
import numpy as np
import matplotlib.pyplot as pt
from sklearn import linear_model
from sklearn.model_selection import train_test_split 

df = pd.read_csv('homeprices.csv')
df
